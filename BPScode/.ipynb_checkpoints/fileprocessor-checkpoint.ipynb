{
 "cells": [
  {
   "cell_type": "code",
   "execution_count": 1,
   "metadata": {},
   "outputs": [],
   "source": [
    "import pandas as pd\n",
    "import numpy as np\n",
    "import openpyxl\n",
    "import os\n",
    "RANDOM_SEED = 6324\n",
    "np.random.seed(RANDOM_SEED)"
   ]
  },
  {
   "cell_type": "code",
   "execution_count": 14,
   "metadata": {},
   "outputs": [],
   "source": [
    "filename = '^N225'\n",
    "df = pd.read_csv(filename+'.csv')\n",
    "df['']=df['Date']\n",
    "# df['y']=df['Adj Close']\n",
    "# df = df[['','y']]\n",
    "# df.to_excel(os.path.join(os.getcwd(),filename+'.xlsx'),index=False)"
   ]
  },
  {
   "cell_type": "code",
   "execution_count": 15,
   "metadata": {},
   "outputs": [],
   "source": [
    "y=np.array(df['Adj Close'])\n",
    "df['M1'] = np.random.normal(y,y*0.01)\n",
    "df['M2'] = np.random.normal(y,y*0.01)\n",
    "df['M3'] = np.random.normal(y,y*0.01)\n",
    "df['M4'] = np.random.normal(y,y*0.01)\n",
    "df2 = df[['','M1','M2','M3','M4']]\n",
    "df2.to_excel(filename+'_mean.xlsx',index=False)"
   ]
  },
  {
   "cell_type": "code",
   "execution_count": 16,
   "metadata": {},
   "outputs": [],
   "source": [
    "y=np.array(df['Adj Close'])*0.05\n",
    "df['M1'] = np.random.normal(y,y*0.05)\n",
    "df['M2'] = np.random.normal(y,y*0.05)\n",
    "df['M3'] = np.random.normal(y,y*0.05)\n",
    "df['M4'] = np.random.normal(y,y*0.05)\n",
    "df2 = df[['','M1','M2','M3','M4']]\n",
    "df2.to_excel(filename+'_var.xlsx',index=False)"
   ]
  },
  {
   "cell_type": "code",
   "execution_count": 17,
   "metadata": {},
   "outputs": [],
   "source": [
    "y=np.array([20 for x in df['']])\n",
    "df['M1'] = np.random.normal(y,0.1)\n",
    "df['M2'] = np.random.normal(y,0.1)\n",
    "df['M3'] = np.random.normal(y,0.1)\n",
    "df['M4'] = np.random.normal(y,0.1)\n",
    "df2 = df[['','M1','M2','M3','M4']]\n",
    "df2.to_excel(filename+'_dof.xlsx',index=False)"
   ]
  },
  {
   "cell_type": "code",
   "execution_count": null,
   "metadata": {},
   "outputs": [],
   "source": []
  },
  {
   "cell_type": "code",
   "execution_count": null,
   "metadata": {},
   "outputs": [],
   "source": []
  }
 ],
 "metadata": {
  "kernelspec": {
   "display_name": "Python 3",
   "language": "python",
   "name": "python3"
  },
  "language_info": {
   "codemirror_mode": {
    "name": "ipython",
    "version": 3
   },
   "file_extension": ".py",
   "mimetype": "text/x-python",
   "name": "python",
   "nbconvert_exporter": "python",
   "pygments_lexer": "ipython3",
   "version": "3.7.7"
  }
 },
 "nbformat": 4,
 "nbformat_minor": 4
}
